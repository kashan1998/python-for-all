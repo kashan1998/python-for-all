{
 "cells": [
  {
   "cell_type": "markdown",
   "metadata": {},
   "source": [
    "# Looping/Loops for loop\n"
   ]
  },
  {
   "cell_type": "code",
   "execution_count": 8,
   "metadata": {},
   "outputs": [
    {
     "name": "stdout",
     "output_type": "stream",
     "text": [
      "1 Karachi\n",
      "3 Karachi\n",
      "5 Karachi\n",
      "7 Karachi\n",
      "9 Karachi\n"
     ]
    }
   ],
   "source": [
    "for a in range(1,10,2):\n",
    "    print(a,\"Karachi\")\n",
    "    "
   ]
  },
  {
   "cell_type": "code",
   "execution_count": 20,
   "metadata": {},
   "outputs": [
    {
     "name": "stdout",
     "output_type": "stream",
     "text": [
      "kashan <class 'str'>\n",
      "ali <class 'str'>\n",
      "usama <class 'str'>\n"
     ]
    }
   ],
   "source": [
    "list1 = ['kashan','ali','usama']\n",
    "for num in list1:\n",
    "    print(num,type(num))"
   ]
  },
  {
   "cell_type": "code",
   "execution_count": 24,
   "metadata": {},
   "outputs": [
    {
     "name": "stdout",
     "output_type": "stream",
     "text": [
      "11 is odd\n",
      "22 is even\n",
      "56 is even\n",
      "89 is odd\n",
      "2 is even\n",
      "10 is even\n",
      "13 is odd\n"
     ]
    }
   ],
   "source": [
    "numList=[11,22,56,89,2,10,13]\n",
    "for number in numList:\n",
    "    if number%2 !=0:\n",
    "        print(str (number) + \" is odd\")\n",
    "    else:\n",
    "        print(str (number) + \" is even\")"
   ]
  },
  {
   "cell_type": "code",
   "execution_count": 38,
   "metadata": {},
   "outputs": [
    {
     "name": "stdout",
     "output_type": "stream",
     "text": [
      "[11, 89, 13] is odd ♥ and [22, 56, 2, 10] is even ♥\n"
     ]
    }
   ],
   "source": [
    "numList=[11,22,56,89,2,10,13]\n",
    "even=[]\n",
    "odd=[]\n",
    "for number in numList:\n",
    "    if number%2 !=0:\n",
    "         odd.append(number)\n",
    "    else:\n",
    "        even.append(number)\n",
    "        \n",
    "print(str (odd) + \" is odd ♥ and \" + str (even) + \" is even ♥\" )\n"
   ]
  }
 ],
 "metadata": {
  "kernelspec": {
   "display_name": "Python 3",
   "language": "python",
   "name": "python3"
  },
  "language_info": {
   "codemirror_mode": {
    "name": "ipython",
    "version": 3
   },
   "file_extension": ".py",
   "mimetype": "text/x-python",
   "name": "python",
   "nbconvert_exporter": "python",
   "pygments_lexer": "ipython3",
   "version": "3.7.1"
  }
 },
 "nbformat": 4,
 "nbformat_minor": 2
}
