{
 "cells": [
  {
   "cell_type": "code",
   "execution_count": null,
   "metadata": {},
   "outputs": [],
   "source": [
    "name = input(\"Enter name: \").upper()\n",
    "if name == \"KASHAN\": \n",
    "    print(\"your name is \" + name)\n",
    "   \n",
    "else:\n",
    "    print(\"no\")"
   ]
  },
  {
   "cell_type": "code",
   "execution_count": null,
   "metadata": {},
   "outputs": [],
   "source": [
    "num=int(input(\"Enter your age:\"))\n",
    "if num > 25:\n",
    "    print(\"Wear Pants\")\n",
    "else:\n",
    "    print(\"wear Shorts\")"
   ]
  },
  {
   "cell_type": "code",
   "execution_count": null,
   "metadata": {},
   "outputs": [],
   "source": [
    "x =float(input(\"Enter marks:\"))\n",
    "if x>100:\n",
    "    print(\"Error\")\n",
    "elif x >= 90:\n",
    "    print(\"A+\")\n",
    "elif x >= 80:\n",
    "    print(\"A\")\n",
    "elif x >= 70:\n",
    "    print(\"B\")\n",
    "elif x >= 60:\n",
    "    print(\"C\")\n",
    "elif x >= 50:\n",
    "    print(\"D\")\n",
    "elif x < 50:\n",
    "    print(\"You are fail\")               \n",
    "\n",
    "per=(x/100)*100\n",
    "print(\"Your Percentage is \" + str(per) + \"%\")               "
   ]
  },
  {
   "cell_type": "code",
   "execution_count": 38,
   "metadata": {},
   "outputs": [
    {
     "name": "stdout",
     "output_type": "stream",
     "text": [
      "Enter Urdu marks:10\n",
      "Enter English marks:10\n",
      "Enter Maths marks:10\n",
      "Enter Programming marks:10\n",
      "Enter Islamiat marks:10\n",
      "Report:\n",
      "Total is 50.0\n",
      "Your percentage is 10.0 %\n",
      "Your grade is F\n"
     ]
    }
   ],
   "source": [
    "a=float(input(\"Enter Urdu marks:\"))\n",
    "b=float(input(\"Enter English marks:\"))\n",
    "c=float(input(\"Enter Maths marks:\"))\n",
    "d=float(input(\"Enter Programming marks:\"))\n",
    "e=float(input(\"Enter Islamiat marks:\"))\n",
    "#grade=\"F\"\n",
    "\n",
    "total=a+b+c+d+e\n",
    "per=(total/500)*100\n",
    "\n",
    "\n",
    "if per>=90:\n",
    "    grade = \"A+\"\n",
    "elif per >= 80:\n",
    "    grade= \"A\"\n",
    "elif per >= 70:\n",
    "    grade= \"B\"\n",
    "elif per >= 60:\n",
    "    grade= \"C\"\n",
    "elif per >= 50:\n",
    "    grade= \"D\"\n",
    "else:            \n",
    "    grade=\"F\"\n",
    "\n",
    "print(\"Report:\\nTotal is \" + str(total) + \"\\nYour percentage is \" + str(per) + \" %\\n\" \"Your grade is \" + grade    )    "
   ]
  },
  {
   "cell_type": "code",
   "execution_count": null,
   "metadata": {},
   "outputs": [],
   "source": []
  }
 ],
 "metadata": {
  "kernelspec": {
   "display_name": "Python 3",
   "language": "python",
   "name": "python3"
  }
 },
 "nbformat": 4,
 "nbformat_minor": 2
}
