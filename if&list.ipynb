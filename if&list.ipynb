{
 "cells": [
  {
   "cell_type": "code",
   "execution_count": null,
   "metadata": {},
   "outputs": [],
   "source": []
  },
  {
   "cell_type": "code",
   "execution_count": 14,
   "metadata": {},
   "outputs": [
    {
     "name": "stdout",
     "output_type": "stream",
     "text": [
      "Enter your age:18\n",
      "Do you have nic?y\n",
      "Enter your name:kashan\n",
      "Enter your city:karachi\n",
      "Enter NIC:45645512\n",
      "Your age is 18\n",
      "Your name iskashan\n",
      "Your city is karachi\n",
      "Your nic is45645512\n"
     ]
    }
   ],
   "source": [
    "\n",
    "age=int(input(\"Enter your age:\"))\n",
    "\n",
    "remaining_age=18-age\n",
    "\n",
    "if age>=18:\n",
    "    nic=input(\"Do you have nic?\")\n",
    "    if nic=='y' or 'Y':\n",
    "        name=input(\"Enter your name:\")\n",
    "        city=input(\"Enter your city:\")\n",
    "        onic=int(input(\"Enter NIC:\") )\n",
    "        print(\"Your age is \" + str(age) +  \"\\nYour name is \" + name + \"\\nYour city is \" + city + \"\\nYour nic is\" + str(onic))\n",
    "    \n",
    "    else:\n",
    "        print(\"Sorry! you are not eligible to cast vote\")\n",
    "else:\n",
    "    print(\"Sorry!\")\n",
    "        "
   ]
  },
  {
   "cell_type": "code",
   "execution_count": 15,
   "metadata": {},
   "outputs": [
    {
     "data": {
      "text/plain": [
       "'hyderabad'"
      ]
     },
     "execution_count": 15,
     "metadata": {},
     "output_type": "execute_result"
    }
   ],
   "source": [
    "mylist=['karachi','lahore','hyderabad']\n",
    "mylist[2]\n"
   ]
  },
  {
   "cell_type": "code",
   "execution_count": null,
   "metadata": {},
   "outputs": [],
   "source": []
  },
  {
   "cell_type": "code",
   "execution_count": null,
   "metadata": {},
   "outputs": [],
   "source": []
  },
  {
   "cell_type": "code",
   "execution_count": null,
   "metadata": {},
   "outputs": [],
   "source": []
  }
 ],
 "metadata": {
  "kernelspec": {
   "display_name": "Python 3",
   "language": "python",
   "name": "python3"
  },
  "language_info": {
   "codemirror_mode": {
    "name": "ipython",
    "version": 3
   },
   "file_extension": ".py",
   "mimetype": "text/x-python",
   "name": "python",
   "nbconvert_exporter": "python",
   "pygments_lexer": "ipython3",
   "version": "3.7.1"
  }
 },
 "nbformat": 4,
 "nbformat_minor": 2
}
